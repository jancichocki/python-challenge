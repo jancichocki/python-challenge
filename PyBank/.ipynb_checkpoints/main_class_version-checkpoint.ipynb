{
 "cells": [
  {
   "cell_type": "code",
   "execution_count": 2,
   "id": "af3d118f-0f10-4473-a2f7-dbedd156b57b",
   "metadata": {
    "tags": []
   },
   "outputs": [
    {
     "name": "stdout",
     "output_type": "stream",
     "text": [
      "Financial Analysis\n",
      "----------------------------\n",
      "Total Months: 86\n",
      "Total: $38382578\n",
      "Average Change: $-2315.12\n",
      "Greatest Increase in Profits: Feb-2012 ($1926159)\n",
      "Greatest Decrease in Profits: Sep-2013 ($-2196167)\n"
     ]
    }
   ],
   "source": [
    "\"\"\"\n",
    "This module performs financial analysis for PyBank. It reads financial data from a CSV file, \n",
    "calculates various statistics such as total months, total profit/loss, average change, \n",
    "and greatest increase/decrease in profits, and outputs the results both to the console and a text file.\n",
    "\"\"\"\n",
    "\n",
    "import csv\n",
    "\n",
    "class BudgetDataAnalyzer:\n",
    "    \"\"\"A class to analyze budget data from a CSV file.\"\"\"\n",
    "\n",
    "    def __init__(self, filepath):\n",
    "        \"\"\"Initialize the BudgetDataAnalyzer with the path to the data file.\"\"\"\n",
    "        self.filepath = filepath\n",
    "        self.total_months = 0\n",
    "        self.total_profit_loss = 0\n",
    "        self.monthly_changes = []\n",
    "        self.greatest_increase = ['', 0]\n",
    "        self.greatest_decrease = ['', 0]\n",
    "\n",
    "    def analyze(self):\n",
    "        \"\"\"Analyze the budget data for total months, profit/loss, and changes.\"\"\"\n",
    "        with open(self.filepath, 'r') as csvfile:\n",
    "            data = csv.reader(csvfile)\n",
    "            next(data)  # Skip the header\n",
    "\n",
    "            previous_month_profit_loss = None\n",
    "            for month in data:\n",
    "                self.total_months += 1\n",
    "                current_month_profit_loss = int(month[1])\n",
    "                self.total_profit_loss += current_month_profit_loss\n",
    "\n",
    "                if previous_month_profit_loss is not None:\n",
    "                    change = current_month_profit_loss - previous_month_profit_loss\n",
    "                    self.monthly_changes.append(change)\n",
    "\n",
    "                    # Update greatest increase and decrease\n",
    "                    if change > self.greatest_increase[1]:\n",
    "                        self.greatest_increase = [month[0], change]\n",
    "                    if change < self.greatest_decrease[1]:\n",
    "                        self.greatest_decrease = [month[0], change]\n",
    "\n",
    "                previous_month_profit_loss = current_month_profit_loss\n",
    "\n",
    "    def print_results(self):\n",
    "        \"\"\"Print the results of the analysis.\"\"\"\n",
    "        average_change = sum(self.monthly_changes) / len(self.monthly_changes) if self.monthly_changes else 0\n",
    "        print(\"Financial Analysis\")\n",
    "        print(\"----------------------------\")\n",
    "        print(f\"Total Months: {self.total_months}\")\n",
    "        print(f\"Total: ${self.total_profit_loss}\")\n",
    "        print(f\"Average Change: ${average_change:.2f}\")\n",
    "        print(f\"Greatest Increase in Profits: {self.greatest_increase[0]} (${self.greatest_increase[1]})\")\n",
    "        print(f\"Greatest Decrease in Profits: {self.greatest_decrease[0]} (${self.greatest_decrease[1]})\")\n",
    "\n",
    "# Creating an instance of the BudgetDataAnalyzer and using it to analyze the data\n",
    "analyzer = BudgetDataAnalyzer('budget_data.csv')\n",
    "analyzer.analyze()\n",
    "analyzer.print_results()\n"
   ]
  },
  {
   "cell_type": "code",
   "execution_count": null,
   "id": "3d586eba-9f5c-406b-91e0-dc6ca3498e5a",
   "metadata": {},
   "outputs": [],
   "source": []
  }
 ],
 "metadata": {
  "kernelspec": {
   "display_name": "Python 3 (ipykernel)",
   "language": "python",
   "name": "python3"
  },
  "language_info": {
   "codemirror_mode": {
    "name": "ipython",
    "version": 3
   },
   "file_extension": ".py",
   "mimetype": "text/x-python",
   "name": "python",
   "nbconvert_exporter": "python",
   "pygments_lexer": "ipython3",
   "version": "3.11.5"
  }
 },
 "nbformat": 4,
 "nbformat_minor": 5
}
