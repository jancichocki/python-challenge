{
 "cells": [
  {
   "cell_type": "code",
   "execution_count": 2,
   "id": "a80725c7-0fc9-4c0a-837c-85f0deb5a51b",
   "metadata": {
    "tags": []
   },
   "outputs": [
    {
     "name": "stdout",
     "output_type": "stream",
     "text": [
      "Financial Analysis\n",
      "----------------------------\n",
      "Total Months: 86\n",
      "Total: $38382578\n",
      "Average  Change: $-2315.12\n",
      "Greatest Increase in Profits: Feb-2012 ($1926159)\n",
      "Greatest Decrease in Profits: Sep-2013 ($-2196167)\n"
     ]
    }
   ],
   "source": [
    "import csv\n",
    "from pathlib import Path\n",
    "\n",
    "# Initialize variables for analysis\n",
    "total_months = 0\n",
    "total_profit_loss = 0\n",
    "previous_month_profit_loss = 0\n",
    "monthly_change = []\n",
    "greatest_increase = [\"\", 0]\n",
    "greatest_decrease = [\"\", float('inf')]\n",
    "\n",
    "# Open and read the budget data file\n",
    "with open(Path('budget_data.csv'), 'r') as csvfile:\n",
    "    csvreader = csv.reader(csvfile)\n",
    "    header = next(csvreader)  # Skip the header row\n",
    "\n",
    "    # Process each row in the CSV file\n",
    "    for month in csvreader:\n",
    "        total_months += 1\n",
    "        current_month_profit_loss = int(month[1])\n",
    "        total_profit_loss += current_month_profit_loss\n",
    "\n",
    "        # Only calculate changes from the second month onwards\n",
    "        if total_months > 1:\n",
    "            change = current_month_profit_loss - previous_month_profit_loss\n",
    "            monthly_change.append(change)\n",
    "\n",
    "            # Check and update the greatest increase and decrease in profits\n",
    "            if change > greatest_increase[1]:\n",
    "                greatest_increase = [month[0], change]\n",
    "            if change < greatest_decrease[1]:\n",
    "                greatest_decrease = [month[0], change]\n",
    "\n",
    "        previous_month_profit_loss = current_month_profit_loss\n",
    "\n",
    "# Calculate the average change in profit/loss\n",
    "average_change = sum(monthly_change) / len(monthly_change)\n",
    "\n",
    "# Print the financial analysis results\n",
    "print(\"Financial Analysis\")\n",
    "print(\"----------------------------\")\n",
    "print(f\"Total Months: {total_months}\")\n",
    "print(f\"Total: ${total_profit_loss}\")\n",
    "print(f\"Average  Change: ${average_change:.2f}\")\n",
    "print(f\"Greatest Increase in Profits: {greatest_increase[0]} (${greatest_increase[1]})\")\n",
    "print(f\"Greatest Decrease in Profits: {greatest_decrease[0]} (${greatest_decrease[1]})\")\n",
    "\n",
    "# Write the analysis to a text file\n",
    "output_path = Path('financial_analysis.txt')\n",
    "with open(output_path, 'w') as file:\n",
    "    file.write(\"Financial Analysis\\n\")\n",
    "    file.write(\"----------------------------\\n\")\n",
    "    file.write(f\"Total Months: {total_months}\\n\")\n",
    "    file.write(f\"Total: ${total_profit_loss}\\n\")\n",
    "    file.write(f\"Average  Change: ${average_change:.2f}\\n\")\n",
    "    file.write(f\"Greatest Increase in Profits: {greatest_increase[0]} (${greatest_increase[1]})\\n\")\n",
    "    file.write(f\"Greatest Decrease in Profits: {greatest_decrease[0]} (${greatest_decrease[1]})\\n\")\n"
   ]
  },
  {
   "cell_type": "code",
   "execution_count": null,
   "id": "9af66cf4-22b5-48d0-9174-3a1fcc6a73b6",
   "metadata": {},
   "outputs": [],
   "source": []
  }
 ],
 "metadata": {
  "kernelspec": {
   "display_name": "Python 3 (ipykernel)",
   "language": "python",
   "name": "python3"
  },
  "language_info": {
   "codemirror_mode": {
    "name": "ipython",
    "version": 3
   },
   "file_extension": ".py",
   "mimetype": "text/x-python",
   "name": "python",
   "nbconvert_exporter": "python",
   "pygments_lexer": "ipython3",
   "version": "3.11.5"
  }
 },
 "nbformat": 4,
 "nbformat_minor": 5
}
